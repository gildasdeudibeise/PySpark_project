{
  "nbformat": 4,
  "nbformat_minor": 0,
  "metadata": {
    "colab": {
      "provenance": []
    },
    "kernelspec": {
      "name": "python3",
      "display_name": "Python 3"
    },
    "language_info": {
      "name": "python"
    }
  },
  "cells": [
    {
      "cell_type": "markdown",
      "source": [
        "## Install and import pyspark, create spark session\n",
        "- I start by installing and importing spark and create spark session"
      ],
      "metadata": {
        "id": "rszZYLH5byMl"
      }
    },
    {
      "cell_type": "code",
      "source": [
        "pip install pyspark"
      ],
      "metadata": {
        "colab": {
          "base_uri": "https://localhost:8080/"
        },
        "id": "2pCidnj4bxI4",
        "outputId": "f3a8e7b6-53ba-41ad-9e29-9b27617763ea"
      },
      "execution_count": 1,
      "outputs": [
        {
          "output_type": "stream",
          "name": "stdout",
          "text": [
            "Looking in indexes: https://pypi.org/simple, https://us-python.pkg.dev/colab-wheels/public/simple/\n",
            "Collecting pyspark\n",
            "  Downloading pyspark-3.3.1.tar.gz (281.4 MB)\n",
            "\u001b[2K     \u001b[90m━━━━━━━━━━━━━━━━━━━━━━━━━━━━━━━━━━━━━━━\u001b[0m \u001b[32m281.4/281.4 MB\u001b[0m \u001b[31m4.7 MB/s\u001b[0m eta \u001b[36m0:00:00\u001b[0m\n",
            "\u001b[?25h  Preparing metadata (setup.py) ... \u001b[?25l\u001b[?25hdone\n",
            "Collecting py4j==0.10.9.5\n",
            "  Downloading py4j-0.10.9.5-py2.py3-none-any.whl (199 kB)\n",
            "\u001b[2K     \u001b[90m━━━━━━━━━━━━━━━━━━━━━━━━━━━━━━━━━━━━━━\u001b[0m \u001b[32m199.7/199.7 KB\u001b[0m \u001b[31m18.5 MB/s\u001b[0m eta \u001b[36m0:00:00\u001b[0m\n",
            "\u001b[?25hBuilding wheels for collected packages: pyspark\n",
            "  Building wheel for pyspark (setup.py) ... \u001b[?25l\u001b[?25hdone\n",
            "  Created wheel for pyspark: filename=pyspark-3.3.1-py2.py3-none-any.whl size=281845512 sha256=6bee9e598a3953a004fd368b550d31162b7d562ab97c5c57713d7368176fdf5d\n",
            "  Stored in directory: /root/.cache/pip/wheels/43/dc/11/ec201cd671da62fa9c5cc77078235e40722170ceba231d7598\n",
            "Successfully built pyspark\n",
            "Installing collected packages: py4j, pyspark\n",
            "Successfully installed py4j-0.10.9.5 pyspark-3.3.1\n"
          ]
        }
      ]
    },
    {
      "cell_type": "code",
      "source": [
        "import pyspark"
      ],
      "metadata": {
        "id": "Bi7jO4n5brUU"
      },
      "execution_count": 2,
      "outputs": []
    },
    {
      "cell_type": "code",
      "source": [
        "spark = pyspark.sql.SparkSession.builder.getOrCreate()"
      ],
      "metadata": {
        "id": "_LQJFSosbxio"
      },
      "execution_count": 3,
      "outputs": []
    },
    {
      "cell_type": "markdown",
      "source": [
        "## Read and merge all gas files\n",
        "### Load & process gas price data with Spark\n",
        "\n",
        "Then I load price data from 2019 to 2121 (3 years timespan) as well as 2022 service and station data."
      ],
      "metadata": {
        "id": "bS_y8IFfdvZF"
      }
    },
    {
      "cell_type": "code",
      "source": [
        "!curl -o Prix2019.csv.gz https://raw.githubusercontent.com/rvm-courses/GasPrices/master/Prix2019.csv.gz "
      ],
      "metadata": {
        "colab": {
          "base_uri": "https://localhost:8080/"
        },
        "id": "p8puOqdvcCHs",
        "outputId": "aa115a14-6733-4305-ae3d-f72e20777fa8"
      },
      "execution_count": 4,
      "outputs": [
        {
          "output_type": "stream",
          "name": "stdout",
          "text": [
            "  % Total    % Received % Xferd  Average Speed   Time    Time     Time  Current\n",
            "                                 Dload  Upload   Total   Spent    Left  Speed\n",
            "100 22.7M  100 22.7M    0     0  10.7M      0  0:00:02  0:00:02 --:--:-- 10.7M\n"
          ]
        }
      ]
    },
    {
      "cell_type": "code",
      "source": [
        "!curl -o Prix2020.csv.gz https://raw.githubusercontent.com/rvm-courses/GasPrices/master/Prix2020.csv.gz "
      ],
      "metadata": {
        "colab": {
          "base_uri": "https://localhost:8080/"
        },
        "id": "NBtejL7PcF00",
        "outputId": "53193470-ad39-4f88-a39a-4aeffef23cc4"
      },
      "execution_count": 5,
      "outputs": [
        {
          "output_type": "stream",
          "name": "stdout",
          "text": [
            "  % Total    % Received % Xferd  Average Speed   Time    Time     Time  Current\n",
            "                                 Dload  Upload   Total   Spent    Left  Speed\n",
            "100 20.7M  100 20.7M    0     0  6520k      0  0:00:03  0:00:03 --:--:-- 6520k\n"
          ]
        }
      ]
    },
    {
      "cell_type": "code",
      "source": [
        "!curl -o Prix2021.csv.gz https://raw.githubusercontent.com/rvm-courses/GasPrices/master/Prix2021.csv.gz "
      ],
      "metadata": {
        "colab": {
          "base_uri": "https://localhost:8080/"
        },
        "id": "IfDkwDBlcGBE",
        "outputId": "53383ba1-89cb-45c9-9a92-eebbe4e6dd9c"
      },
      "execution_count": 6,
      "outputs": [
        {
          "output_type": "stream",
          "name": "stdout",
          "text": [
            "  % Total    % Received % Xferd  Average Speed   Time    Time     Time  Current\n",
            "                                 Dload  Upload   Total   Spent    Left  Speed\n",
            "100 23.2M  100 23.2M    0     0  7765k      0  0:00:03  0:00:03 --:--:-- 7765k\n"
          ]
        }
      ]
    },
    {
      "cell_type": "code",
      "source": [
        "#!curl -o Prix2022S1.csv.gz https://raw.githubusercontent.com/rvm-courses/GasPrices/master/Prix2022S1.csv.gz "
      ],
      "metadata": {
        "id": "TzWCbJ2FcGKZ"
      },
      "execution_count": 7,
      "outputs": []
    },
    {
      "cell_type": "code",
      "source": [
        "#!curl -o Prix2022S2.csv.gz https://raw.githubusercontent.com/rvm-courses/GasPrices/master/Prix2022S2.csv.gz "
      ],
      "metadata": {
        "id": "20geI_O6cNTU"
      },
      "execution_count": 8,
      "outputs": []
    },
    {
      "cell_type": "code",
      "source": [
        "!curl -o Services2022.csv.gz https://raw.githubusercontent.com/rvm-courses/GasPrices/master/Services2022.csv.gz "
      ],
      "metadata": {
        "colab": {
          "base_uri": "https://localhost:8080/"
        },
        "id": "Mxe6CnqacGUm",
        "outputId": "57e94b6b-46d0-4c49-d40b-b6e6e18540e4"
      },
      "execution_count": 9,
      "outputs": [
        {
          "output_type": "stream",
          "name": "stdout",
          "text": [
            "  % Total    % Received % Xferd  Average Speed   Time    Time     Time  Current\n",
            "                                 Dload  Upload   Total   Spent    Left  Speed\n",
            "100  245k  100  245k    0     0   254k      0 --:--:-- --:--:-- --:--:--  254k\n"
          ]
        }
      ]
    },
    {
      "cell_type": "code",
      "source": [
        "!curl -o Stations2022.csv.gz https://raw.githubusercontent.com/rvm-courses/GasPrices/master/Stations2022.csv.gz "
      ],
      "metadata": {
        "colab": {
          "base_uri": "https://localhost:8080/"
        },
        "id": "KWQsRSPQcUrQ",
        "outputId": "bfd112aa-d014-4370-b6d7-1e004c400a48"
      },
      "execution_count": 10,
      "outputs": [
        {
          "output_type": "stream",
          "name": "stdout",
          "text": [
            "  % Total    % Received % Xferd  Average Speed   Time    Time     Time  Current\n",
            "                                 Dload  Upload   Total   Spent    Left  Speed\n",
            "100  346k  100  346k    0     0   688k      0 --:--:-- --:--:-- --:--:--  686k\n"
          ]
        }
      ]
    },
    {
      "cell_type": "markdown",
      "source": [
        "Then I run some check to make sure the data are read correctly. "
      ],
      "metadata": {
        "id": "K0k9KqdCex3h"
      }
    },
    {
      "cell_type": "code",
      "source": [
        "!wc -l Prix2019.csv.gz\n",
        "!wc -l Prix2020.csv.gz\n",
        "!wc -l Prix2021.csv.gz\n",
        "!wc -l Services2022.csv.gz\n",
        "!wc -l Stations2022.csv.gz"
      ],
      "metadata": {
        "colab": {
          "base_uri": "https://localhost:8080/"
        },
        "id": "clANbPQPcafi",
        "outputId": "932c183f-e2aa-47b4-96d6-f7890fbf12a2"
      },
      "execution_count": 11,
      "outputs": [
        {
          "output_type": "stream",
          "name": "stdout",
          "text": [
            "83631 Prix2019.csv.gz\n",
            "74994 Prix2020.csv.gz\n",
            "84513 Prix2021.csv.gz\n",
            "947 Services2022.csv.gz\n",
            "1271 Stations2022.csv.gz\n"
          ]
        }
      ]
    },
    {
      "cell_type": "markdown",
      "source": [
        "## Prepare data\n",
        "\n",
        "Then I read the data into spark and display some first row for the sake of checking, to make sure the data is imported correctly"
      ],
      "metadata": {
        "id": "DTVkwU9JfFQS"
      }
    },
    {
      "cell_type": "code",
      "source": [
        "price2019 = spark.read.csv('Prix2019.csv.gz', sep=';', header=False, inferSchema=True).cache()\n",
        "price2020 = spark.read.csv('Prix2020.csv.gz', sep=';', header=False, inferSchema=True).cache()\n",
        "price2021 = spark.read.csv('Prix2021.csv.gz', sep=';', header=False, inferSchema=True).cache()\n",
        "#price2022S1 = spark.read.csv('Prix2022S1.csv.gz', sep=';', header=False, inferSchema=True).cache()\n",
        "#price2022S2 = spark.read.csv('Prix2022S2.csv.gz', sep=';', header=False, inferSchema=True).cache()\n",
        "Services2022 = spark.read.csv('Services2022.csv.gz', sep='|', header=False, inferSchema=True).cache()\n",
        "Stations2022 = spark.read.csv('Stations2022.csv.gz', sep='|', header=False, inferSchema=True).cache()"
      ],
      "metadata": {
        "id": "o66WLdC8cfLf"
      },
      "execution_count": 12,
      "outputs": []
    },
    {
      "cell_type": "code",
      "source": [
        "price2019.show(6, truncate=False)\n",
        "#price2020.show(6, truncate=False)\n",
        "#price2021.show(6, truncate=False)\n",
        "#price2022S1.show(6, truncate=False)\n",
        "#price2022S2.show(6, truncate=False)\n",
        "Services2022.show(6, truncate=False)\n",
        "Stations2022.show(6, truncate=False)"
      ],
      "metadata": {
        "colab": {
          "base_uri": "https://localhost:8080/"
        },
        "id": "MEClzEjKdEfZ",
        "outputId": "addbce98-6d20-455e-c9b6-0f08f09683c9"
      },
      "execution_count": 13,
      "outputs": [
        {
          "output_type": "stream",
          "name": "stdout",
          "text": [
            "+-------+----+---+---------+--------+-------------------+---+------+----+\n",
            "|_c0    |_c1 |_c2|_c3      |_c4     |_c5                |_c6|_c7   |_c8 |\n",
            "+-------+----+---+---------+--------+-------------------+---+------+----+\n",
            "|1000001|1000|R  |4620114.0|519791.0|2019-01-04 10:53:48|1  |Gazole|1328|\n",
            "|1000001|1000|R  |4620114.0|519791.0|2019-01-07 10:25:25|1  |Gazole|1348|\n",
            "|1000001|1000|R  |4620114.0|519791.0|2019-01-10 08:54:28|1  |Gazole|1374|\n",
            "|1000001|1000|R  |4620114.0|519791.0|2019-01-11 10:01:54|1  |Gazole|1387|\n",
            "|1000001|1000|R  |4620114.0|519791.0|2019-01-14 11:04:53|1  |Gazole|1394|\n",
            "|1000001|1000|R  |4620114.0|519791.0|2019-01-16 10:21:21|1  |Gazole|1394|\n",
            "+-------+----+---+---------+--------+-------------------+---+------+----+\n",
            "only showing top 6 rows\n",
            "\n",
            "+-------+----+---+-------------+-------------+-------------------------------------------------------------------------------------------------------------------------------------------------------------------------------------------------------------------------------------------------------------------------------------------------------------------------+\n",
            "|_c0    |_c1 |_c2|_c3          |_c4          |_c5                                                                                                                                                                                                                                                                                                                      |\n",
            "+-------+----+---+-------------+-------------+-------------------------------------------------------------------------------------------------------------------------------------------------------------------------------------------------------------------------------------------------------------------------------------------------------------------------+\n",
            "|1000001|1000|R  |4620100.0    |519800.0     |Station de gonflage,Vente de gaz domestique (Butane, Propane),DAB (Distributeur automatique de billets)                                                                                                                                                                                                                  |\n",
            "|1000002|1000|R  |4621842.0    |522767.0     |Vente de gaz domestique (Butane, Propane),DAB (Distributeur automatique de billets)                                                                                                                                                                                                                                      |\n",
            "|1000004|1000|R  |4618800.0    |524500.0     |Toilettes publiques,Relais colis,Boutique alimentaire,Boutique non alimentaire,Vente de fioul domestique,Station de gonflage,Carburant additivé,Location de véhicule,Piste poids lourds,Vente de gaz domestique (Butane, Propane),Vente d'additifs carburants,Automate CB 24/24,DAB (Distributeur automatique de billets)|\n",
            "|1000005|1000|R  |4620093.59235|519942.024022|Boutique alimentaire,Boutique non alimentaire,Station de gonflage,Carburant additivé,Piste poids lourds,Lavage automatique,Vente de gaz domestique (Butane, Propane),DAB (Distributeur automatique de billets)                                                                                                           |\n",
            "|1000006|1000|R  |4620754.0    |523758.0     |Vente de gaz domestique (Butane, Propane)                                                                                                                                                                                                                                                                                |\n",
            "|1000007|1000|R  |4622100.0    |524500.0     |Vente de fioul domestique,Lavage automatique,Vente de gaz domestique (Butane, Propane),DAB (Distributeur automatique de billets)                                                                                                                                                                                         |\n",
            "+-------+----+---+-------------+-------------+-------------------------------------------------------------------------------------------------------------------------------------------------------------------------------------------------------------------------------------------------------------------------------------------------------------------------+\n",
            "only showing top 6 rows\n",
            "\n",
            "+-------+----+---+-------------+-------------+--------------------------+---------------------+\n",
            "|_c0    |_c1 |_c2|_c3          |_c4          |_c5                       |_c6                  |\n",
            "+-------+----+---+-------------+-------------+--------------------------+---------------------+\n",
            "|1000001|1000|R  |4620100.0    |519800.0     |596 AVENUE DE TREVOUX     |SAINT-DENIS-LèS-BOURG|\n",
            "|1000002|1000|R  |4621842.0    |522767.0     |16 Avenue de Marboz       |BOURG-EN-BRESSE      |\n",
            "|1000004|1000|R  |4618800.0    |524500.0     |20 Avenue du Maréchal Juin|Bourg-en-Bresse      |\n",
            "|1000005|1000|R  |4620093.59235|519942.024022|642 Avenue de Trévoux     |SAINT-DENIS-LèS-BOURG|\n",
            "|1000006|1000|R  |4620754.0    |523758.0     |1 Boulevard John Kennedy  |BOURG-EN-BRESSE      |\n",
            "|1000007|1000|R  |4622100.0    |524500.0     |AVENUE FRANCOIS PIGNIER   |Bourg-en-Bresse      |\n",
            "+-------+----+---+-------------+-------------+--------------------------+---------------------+\n",
            "only showing top 6 rows\n",
            "\n"
          ]
        }
      ]
    },
    {
      "cell_type": "markdown",
      "source": [
        "Some quick summary statistics on the data"
      ],
      "metadata": {
        "id": "0WqlYiQOknLE"
      }
    },
    {
      "cell_type": "code",
      "source": [
        "price2019.describe().show()\n",
        "#price2020.describe().show()\n",
        "#price2021.describe().show()\n",
        "#price2022S1.describe().show()\n",
        "#price2022S2.describe().show()\n",
        "#Services2022.describe().show()\n",
        "#Stations2022.describe().show()"
      ],
      "metadata": {
        "id": "P3iTPBy4dHhZ",
        "colab": {
          "base_uri": "https://localhost:8080/"
        },
        "outputId": "88e0b5c0-da9e-4550-c821-fa89158a4d22"
      },
      "execution_count": 14,
      "outputs": [
        {
          "output_type": "stream",
          "name": "stdout",
          "text": [
            "+-------+-------------------+------------------+-------+------------------+------------------+------------------+-------+-----------------+\n",
            "|summary|                _c0|               _c1|    _c2|               _c3|               _c4|               _c6|    _c7|              _c8|\n",
            "+-------+-------------------+------------------+-------+------------------+------------------+------------------+-------+-----------------+\n",
            "|  count|            4214434|           4214434|4214434|           4214365|           4214366|           4211139|4211139|          4211139|\n",
            "|   mean| 5.18963796666219E7|51875.984411192585|   null| 4692007.950184234|272806.73717118654|3.6451427986585103|   null|  1448.3370548918|\n",
            "| stddev|2.702708443595504E7|27021.667680420647|   null|227978.09061629817| 268085.1364792995|2.0889886055186047|   null|217.9316078476333|\n",
            "|    min|            1000001|              1000|      A|  -2094971.3596753|         -472300.0|                 1|    E10|                1|\n",
            "|    max|           96600001|             97429|      R|     6260655.98007|   5529526.0602666|                 6|   SP98|             8888|\n",
            "+-------+-------------------+------------------+-------+------------------+------------------+------------------+-------+-----------------+\n",
            "\n"
          ]
        }
      ]
    },
    {
      "cell_type": "markdown",
      "source": [
        "I create list of colum of spark column and rename them accordingly"
      ],
      "metadata": {
        "id": "_FCY0lmIfnab"
      }
    },
    {
      "cell_type": "code",
      "source": [
        "columns_price = ['id_pdv' ,'zip_code', 'pop', 'latitude', 'longitude', 'date', 'gas_id', 'gas_label', 'price']\n",
        "columns_stations = ['id_pdv' ,'zip_code', 'pop', 'latitude', 'longitude', 'adress', 'city']\n",
        "columns_services = ['id_pdv' ,'zip_code', 'pop', 'latitude', 'longitude', 'services']"
      ],
      "metadata": {
        "id": "l3WLPe-9dIjd"
      },
      "execution_count": 15,
      "outputs": []
    },
    {
      "cell_type": "code",
      "source": [
        "price2019 = price2019.toDF(*columns_price)\n",
        "price2020 = price2020.toDF(*columns_price)\n",
        "price2021 = price2021.toDF(*columns_price)\n",
        "#price2022S1 = price2022S1.toDF(*columns_price)\n",
        "#price2022S2 = price2022S2.toDF(*columns_price)\n",
        "Services2022 = Services2022.toDF(*columns_services)\n",
        "Stations2022 = Stations2022.toDF(*columns_stations)"
      ],
      "metadata": {
        "id": "t5UIF98ldLED"
      },
      "execution_count": 16,
      "outputs": []
    },
    {
      "cell_type": "code",
      "source": [
        "#price2019.show(6, truncate=False)\n",
        "#price2020.show(6, truncate=False)\n",
        "#price2021.show(6, truncate=False)\n",
        "#price2022S1.show(6, truncate=False)\n",
        "#price2022S2.show(6, truncate=False)\n",
        "#Services2022.show(6, truncate=False)\n",
        "#Stations2022.show(6, truncate=False)"
      ],
      "metadata": {
        "id": "d_sfR1NxdPBu"
      },
      "execution_count": 17,
      "outputs": []
    },
    {
      "cell_type": "code",
      "source": [
        "#(price2019.join(price2020, on=['_c0', '_c1'], how='inner')\n",
        "#.join(price2020, on=['_c0', '_c1'], how='inner')\n",
        "#.join(price2021, on=['_c0', '_c1'], how='inner')\n",
        "#.join(price2022S1, on=['_c0', '_c1'], how='inner')\n",
        "#.join(price2022S2, on=['_c0', '_c1'], how='inner')\n",
        "#.join(Stations2022, on=['_c0', '_c1'], how='inner')\n",
        "#.join(Services2022, on=['_c0', '_c1'], how='inner')\n",
        "#).show(15)"
      ],
      "metadata": {
        "id": "xDcLLLRqdmEY"
      },
      "execution_count": 18,
      "outputs": []
    },
    {
      "cell_type": "markdown",
      "source": [
        "I merge/append all price data together"
      ],
      "metadata": {
        "id": "n_zp0P2pf49O"
      }
    },
    {
      "cell_type": "code",
      "source": [
        "append_price = (price2019.union(price2020)\n",
        ".union(price2021)\n",
        "#.union(price2022S1)\n",
        "#.union(price2022S2)\n",
        ")"
      ],
      "metadata": {
        "id": "qdf7x1zTdnYa"
      },
      "execution_count": 19,
      "outputs": []
    },
    {
      "cell_type": "markdown",
      "source": [
        "## Split date in year, month, week of the year\n",
        "\n",
        "I import necessary packages in order to compute some variables such as day, month, week etc."
      ],
      "metadata": {
        "id": "ZLn441dugY0V"
      }
    },
    {
      "cell_type": "code",
      "source": [
        "import pyspark.sql.functions as F\n",
        "from pyspark.sql.functions import weekofyear\n",
        "from pyspark.sql.functions import dayofweek\n",
        "from pyspark.sql.functions import to_date"
      ],
      "metadata": {
        "id": "Xwx4vPA-dpuN"
      },
      "execution_count": 20,
      "outputs": []
    },
    {
      "cell_type": "code",
      "source": [
        "df = append_price.withColumn('year', F.split(append_price['date'], '-').getItem(0)) \\\n",
        "       .withColumn('month', F.split(append_price['date'], '-').getItem(1)) \\\n",
        "       .withColumn('week_of_year', weekofyear(append_price.date)) \\\n",
        "       .withColumn('day', dayofweek(append_price.date))\n",
        "df.show(truncate=False)"
      ],
      "metadata": {
        "colab": {
          "base_uri": "https://localhost:8080/"
        },
        "id": "lIeWWL4ndsQm",
        "outputId": "8ab003b0-bd40-44ec-c1b2-d4d9b72db420"
      },
      "execution_count": 21,
      "outputs": [
        {
          "output_type": "stream",
          "name": "stdout",
          "text": [
            "+-------+--------+---+---------+---------+-------------------+------+---------+-----+----+-----+------------+---+\n",
            "|id_pdv |zip_code|pop|latitude |longitude|date               |gas_id|gas_label|price|year|month|week_of_year|day|\n",
            "+-------+--------+---+---------+---------+-------------------+------+---------+-----+----+-----+------------+---+\n",
            "|1000001|1000    |R  |4620114.0|519791.0 |2019-01-04 10:53:48|1     |Gazole   |1328 |2019|01   |1           |6  |\n",
            "|1000001|1000    |R  |4620114.0|519791.0 |2019-01-07 10:25:25|1     |Gazole   |1348 |2019|01   |2           |2  |\n",
            "|1000001|1000    |R  |4620114.0|519791.0 |2019-01-10 08:54:28|1     |Gazole   |1374 |2019|01   |2           |5  |\n",
            "|1000001|1000    |R  |4620114.0|519791.0 |2019-01-11 10:01:54|1     |Gazole   |1387 |2019|01   |2           |6  |\n",
            "|1000001|1000    |R  |4620114.0|519791.0 |2019-01-14 11:04:53|1     |Gazole   |1394 |2019|01   |3           |2  |\n",
            "|1000001|1000    |R  |4620114.0|519791.0 |2019-01-16 10:21:21|1     |Gazole   |1394 |2019|01   |3           |4  |\n",
            "|1000001|1000    |R  |4620114.0|519791.0 |2019-01-17 08:30:12|1     |Gazole   |1391 |2019|01   |3           |5  |\n",
            "|1000001|1000    |R  |4620114.0|519791.0 |2019-01-18 10:08:25|1     |Gazole   |1401 |2019|01   |3           |6  |\n",
            "|1000001|1000    |R  |4620114.0|519791.0 |2019-01-21 10:30:12|1     |Gazole   |1401 |2019|01   |4           |2  |\n",
            "|1000001|1000    |R  |4620114.0|519791.0 |2019-01-21 10:30:14|1     |Gazole   |1401 |2019|01   |4           |2  |\n",
            "|1000001|1000    |R  |4620114.0|519791.0 |2019-01-21 13:44:25|1     |Gazole   |1401 |2019|01   |4           |2  |\n",
            "|1000001|1000    |R  |4620114.0|519791.0 |2019-01-21 13:44:27|1     |Gazole   |1401 |2019|01   |4           |2  |\n",
            "|1000001|1000    |R  |4620114.0|519791.0 |2019-01-23 10:47:24|1     |Gazole   |1408 |2019|01   |4           |4  |\n",
            "|1000001|1000    |R  |4620114.0|519791.0 |2019-01-26 09:38:17|1     |Gazole   |1403 |2019|01   |4           |7  |\n",
            "|1000001|1000    |R  |4620114.0|519791.0 |2019-01-26 09:39:15|1     |Gazole   |1403 |2019|01   |4           |7  |\n",
            "|1000001|1000    |R  |4620114.0|519791.0 |2019-01-29 14:19:00|1     |Gazole   |1403 |2019|01   |5           |3  |\n",
            "|1000001|1000    |R  |4620114.0|519791.0 |2019-02-01 10:52:18|1     |Gazole   |1409 |2019|02   |5           |6  |\n",
            "|1000001|1000    |R  |4620114.0|519791.0 |2019-02-04 09:46:15|1     |Gazole   |1410 |2019|02   |6           |2  |\n",
            "|1000001|1000    |R  |4620114.0|519791.0 |2019-02-08 10:25:46|1     |Gazole   |1415 |2019|02   |6           |6  |\n",
            "|1000001|1000    |R  |4620114.0|519791.0 |2019-02-09 08:18:44|1     |Gazole   |1415 |2019|02   |6           |7  |\n",
            "+-------+--------+---+---------+---------+-------------------+------+---------+-----+----+-----+------------+---+\n",
            "only showing top 20 rows\n",
            "\n"
          ]
        }
      ]
    },
    {
      "cell_type": "markdown",
      "source": [
        "I recalculate longitude and latitude data in order to be in the right format as other data"
      ],
      "metadata": {
        "id": "38YfON9DgoH3"
      }
    },
    {
      "cell_type": "code",
      "source": [
        "df = (df\n",
        " .withColumn('latitud', df.latitude/100000)\n",
        " .withColumn('longitud', df.longitude/100000)\n",
        " .drop(\"latitude\")\n",
        " .drop(\"longitude\")\n",
        ")"
      ],
      "metadata": {
        "id": "QfR5_bYwfuhd"
      },
      "execution_count": 22,
      "outputs": []
    },
    {
      "cell_type": "markdown",
      "source": [
        "### I make data available as a table in order to be able to use Spark SQL"
      ],
      "metadata": {
        "id": "t9ghnybthmoH"
      }
    },
    {
      "cell_type": "code",
      "source": [
        "# Register the DataFrame as a SQL temporary view\n",
        "df.createOrReplaceTempView('dfsql')"
      ],
      "metadata": {
        "id": "-PRYHmzufvQ0"
      },
      "execution_count": 23,
      "outputs": []
    },
    {
      "cell_type": "markdown",
      "source": [
        "- Compute daily price index\n",
        "\n",
        "First I group the data by day to obtain the daily average and compute the formula. Let's recall that the date format is given in long format (include hour, minute and seconds), so I extrat the day by himself before the calculation."
      ],
      "metadata": {
        "id": "Hn2YR6BBiN5-"
      }
    },
    {
      "cell_type": "code",
      "source": [
        "df = df.withColumn('day_only', F.split(df['date'], ' ').getItem(0))"
      ],
      "metadata": {
        "id": "YKyKmw2gfyeL"
      },
      "execution_count": 24,
      "outputs": []
    },
    {
      "cell_type": "code",
      "source": [
        "price_avg_day = df.groupBy(['day_only']).agg(F.avg(F.col('price')).alias('avg_price')).cache()\n"
      ],
      "metadata": {
        "id": "oHxL9SRKf5TC"
      },
      "execution_count": 25,
      "outputs": []
    },
    {
      "cell_type": "code",
      "source": [
        "df_index = (df\n",
        " .join(price_avg_day, on=['day_only'], how='inner')\n",
        " .withColumn('price_index', 100*((F.col('price') - F.col('avg_price'))/ F.col('avg_price') +1))\n",
        ")"
      ],
      "metadata": {
        "id": "mPBzL7Bcf6I5"
      },
      "execution_count": 26,
      "outputs": []
    },
    {
      "cell_type": "markdown",
      "source": [
        "### Compute week index\n",
        "\n",
        "I first import the library window and use the command datediff to compte the number of week since the first date in the data"
      ],
      "metadata": {
        "id": "lO6jeCSSivB8"
      }
    },
    {
      "cell_type": "code",
      "source": [
        "from pyspark.sql import Window"
      ],
      "metadata": {
        "id": "SimTys2Vf83r"
      },
      "execution_count": 27,
      "outputs": []
    },
    {
      "cell_type": "code",
      "source": [
        "ddf_index = (df_index\n",
        "             #.select('PoS_ID','date','gas_type','price')\n",
        "             .withColumn('day_n',F.datediff(F.col('date'),\n",
        "                                            (F.min('date')\n",
        "                                             .over(Window.rowsBetween(\n",
        "                                                 Window.unboundedPreceding,\n",
        "                                                 Window.unboundedFollowing))\n",
        "                                             .cast('timestamp'))))\n",
        "             .withColumn('week_n', F.floor(F.col('day_n')/7)))"
      ],
      "metadata": {
        "id": "fCsufbhLgBhJ"
      },
      "execution_count": 28,
      "outputs": []
    },
    {
      "cell_type": "markdown",
      "source": [
        "I perform some quick checks to make sure the number of weeks is coherent"
      ],
      "metadata": {
        "id": "ml2bxL_GjD6H"
      }
    },
    {
      "cell_type": "code",
      "source": [
        "# Register the DataFrame as a SQL temporary view\n",
        "ddf_index.createOrReplaceTempView('ddf')\n",
        "aaa = spark.sql(\"SELECT max(week_n), min(week_n), min(year), max(year) FROM ddf\")\n",
        "aaa.show(5)\n"
      ],
      "metadata": {
        "colab": {
          "base_uri": "https://localhost:8080/"
        },
        "id": "jn6Y4JFYgCN5",
        "outputId": "0a25c898-91e3-4c7b-f2c3-2fb7ccd95403"
      },
      "execution_count": 29,
      "outputs": [
        {
          "output_type": "stream",
          "name": "stdout",
          "text": [
            "+-----------+-----------+---------+---------+\n",
            "|max(week_n)|min(week_n)|min(year)|max(year)|\n",
            "+-----------+-----------+---------+---------+\n",
            "|        156|          0|     2019|     2021|\n",
            "+-----------+-----------+---------+---------+\n",
            "\n"
          ]
        }
      ]
    },
    {
      "cell_type": "markdown",
      "source": [
        "#  Data Visualization\n",
        "I start by importing the necessary packages for ploting. Before ploting, I transform the data to the right format (grouping by week index and gas type). I also export it to pandas to make it easier for ploting.  "
      ],
      "metadata": {
        "id": "s-CjRAAkjPc4"
      }
    },
    {
      "cell_type": "code",
      "source": [
        "import pandas as pd\n",
        "import matplotlib.pyplot as plt"
      ],
      "metadata": {
        "id": "q3KWcv9zgFGN"
      },
      "execution_count": 30,
      "outputs": []
    },
    {
      "cell_type": "code",
      "source": [
        "import seaborn as sns\n",
        "sns.set_theme(style=\"ticks\")\n",
        "\n",
        "# Define the palette as a list to specify exact values\n",
        "palette = sns.color_palette(\"rocket_r\")"
      ],
      "metadata": {
        "id": "IdNr_SpRgXiC"
      },
      "execution_count": 31,
      "outputs": []
    },
    {
      "cell_type": "code",
      "source": [
        " aaa = (ddf_index\n",
        " .groupby('week_n', 'gas_label')\n",
        " .agg(F.mean('price'), F.count(F.col('price')), F.mean('gas_id'))\n",
        " .toPandas()\n",
        " )"
      ],
      "metadata": {
        "id": "SeILfJXuhahT"
      },
      "execution_count": 32,
      "outputs": []
    },
    {
      "cell_type": "code",
      "source": [
        "ddf_index.show()"
      ],
      "metadata": {
        "colab": {
          "base_uri": "https://localhost:8080/"
        },
        "id": "iy8YKkb3R2N_",
        "outputId": "5b7fc358-5025-4deb-fad0-ceaeb2345ab5"
      },
      "execution_count": 33,
      "outputs": [
        {
          "output_type": "stream",
          "name": "stdout",
          "text": [
            "+----------+-------+--------+---+-------------------+------+---------+-----+----+-----+------------+---+--------+--------+------------------+------------------+-----+------+\n",
            "|  day_only| id_pdv|zip_code|pop|               date|gas_id|gas_label|price|year|month|week_of_year|day| latitud|longitud|         avg_price|       price_index|day_n|week_n|\n",
            "+----------+-------+--------+---+-------------------+------+---------+-----+----+-----+------------+---+--------+--------+------------------+------------------+-----+------+\n",
            "|2019-01-04|1000001|    1000|  R|2019-01-04 10:53:48|     1|   Gazole| 1328|2019|   01|           1|  6|46.20114| 5.19791|1371.0066864272421| 96.86313080359112|    3|     0|\n",
            "|2019-01-07|1000001|    1000|  R|2019-01-07 10:25:25|     1|   Gazole| 1348|2019|   01|           2|  2|46.20114| 5.19791|1372.5697848924463| 98.20994275388544|    6|     0|\n",
            "|2019-01-10|1000001|    1000|  R|2019-01-10 08:54:28|     1|   Gazole| 1374|2019|   01|           2|  5|46.20114| 5.19791|1382.1346966495623| 99.41143966146846|    9|     1|\n",
            "|2019-01-11|1000001|    1000|  R|2019-01-11 10:01:54|     1|   Gazole| 1387|2019|   01|           2|  6|46.20114| 5.19791|1390.8380016476403| 99.72405113729323|   10|     1|\n",
            "|2019-01-14|1000001|    1000|  R|2019-01-14 11:04:53|     1|   Gazole| 1394|2019|   01|           3|  2|46.20114| 5.19791|1392.2253727369541|100.12746695310955|   13|     1|\n",
            "|2019-01-16|1000001|    1000|  R|2019-01-16 10:21:21|     1|   Gazole| 1394|2019|   01|           3|  4|46.20114| 5.19791|1401.0155447906875| 99.49925289431847|   15|     2|\n",
            "|2019-01-17|1000001|    1000|  R|2019-01-17 08:30:12|     1|   Gazole| 1391|2019|   01|           3|  5|46.20114| 5.19791|1394.9099840679767| 99.71969631641936|   16|     2|\n",
            "|2019-01-18|1000001|    1000|  R|2019-01-18 10:08:25|     1|   Gazole| 1401|2019|   01|           3|  6|46.20114| 5.19791|1397.2968884427876|100.26501966674665|   17|     2|\n",
            "|2019-01-21|1000001|    1000|  R|2019-01-21 10:30:12|     1|   Gazole| 1401|2019|   01|           4|  2|46.20114| 5.19791|1390.1746304315366|100.77870573462437|   20|     2|\n",
            "|2019-01-21|1000001|    1000|  R|2019-01-21 10:30:14|     1|   Gazole| 1401|2019|   01|           4|  2|46.20114| 5.19791|1390.1746304315366|100.77870573462437|   20|     2|\n",
            "|2019-01-21|1000001|    1000|  R|2019-01-21 13:44:25|     1|   Gazole| 1401|2019|   01|           4|  2|46.20114| 5.19791|1390.1746304315366|100.77870573462437|   20|     2|\n",
            "|2019-01-21|1000001|    1000|  R|2019-01-21 13:44:27|     1|   Gazole| 1401|2019|   01|           4|  2|46.20114| 5.19791|1390.1746304315366|100.77870573462437|   20|     2|\n",
            "|2019-01-23|1000001|    1000|  R|2019-01-23 10:47:24|     1|   Gazole| 1408|2019|   01|           4|  4|46.20114| 5.19791|1402.6962188116265|100.37811331614388|   22|     3|\n",
            "|2019-01-26|1000001|    1000|  R|2019-01-26 09:38:17|     1|   Gazole| 1403|2019|   01|           4|  7|46.20114| 5.19791|1392.3473277838098|100.76508727410322|   25|     3|\n",
            "|2019-01-26|1000001|    1000|  R|2019-01-26 09:39:15|     1|   Gazole| 1403|2019|   01|           4|  7|46.20114| 5.19791|1392.3473277838098|100.76508727410322|   25|     3|\n",
            "|2019-01-29|1000001|    1000|  R|2019-01-29 14:19:00|     1|   Gazole| 1403|2019|   01|           5|  3|46.20114| 5.19791|1396.4390097823916|100.46983721964563|   28|     4|\n",
            "|2019-02-01|1000001|    1000|  R|2019-02-01 10:52:18|     1|   Gazole| 1409|2019|   02|           5|  6|46.20114| 5.19791| 1397.977752867121|  100.788442241679|   31|     4|\n",
            "|2019-02-04|1000001|    1000|  R|2019-02-04 09:46:15|     1|   Gazole| 1410|2019|   02|           6|  2|46.20114| 5.19791| 1392.879588091354|101.22913797107947|   34|     4|\n",
            "|2019-02-08|1000001|    1000|  R|2019-02-08 10:25:46|     1|   Gazole| 1415|2019|   02|           6|  6|46.20114| 5.19791|1393.5895980463335|101.53634915068838|   38|     5|\n",
            "|2019-02-09|1000001|    1000|  R|2019-02-09 08:18:44|     1|   Gazole| 1415|2019|   02|           6|  7|46.20114| 5.19791|1391.2952529369456|101.70378983274865|   39|     5|\n",
            "+----------+-------+--------+---+-------------------+------+---------+-----+----+-----+------------+---+--------+--------+------------------+------------------+-----+------+\n",
            "only showing top 20 rows\n",
            "\n"
          ]
        }
      ]
    },
    {
      "cell_type": "markdown",
      "source": [
        "First I plot all the graphs together, and separate them later on to portrait better the magnitude for each gas type average price."
      ],
      "metadata": {
        "id": "nZD82v8EvdbW"
      }
    },
    {
      "cell_type": "code",
      "source": [
        " #Plot the lines on two facets\n",
        "graph1 = sns.relplot(\n",
        "    data=aaa,\n",
        "    x=\"week_n\", y=\"avg(price)\",\n",
        "    hue=\"gas_label\",  kind=\"line\", palette=palette,\n",
        "    height=6, aspect = 2, facet_kws=dict(sharex=False)\n",
        "    )\n"
      ],
      "metadata": {
        "colab": {
          "base_uri": "https://localhost:8080/",
          "height": 437
        },
        "id": "jt-MhXEChqFc",
        "outputId": "613bdccb-8082-4fb9-da77-de77267664aa"
      },
      "execution_count": 34,
      "outputs": [
        {
          "output_type": "display_data",
          "data": {
            "text/plain": [
              "<Figure size 941.35x432 with 1 Axes>"
            ],
            "image/png": "[encoded data removed]"
          },
          "metadata": {}
        }
      ]
    },
    {
      "cell_type": "markdown",
      "source": [
        "Note that the price is in milli-euro, so the order of magnitude of average price is between 0 and 2 euros.\n",
        "\n",
        "I also plot the average price separately to portrait the variation better"
      ],
      "metadata": {
        "id": "lyokQdneomV3"
      }
    },
    {
      "cell_type": "code",
      "source": [
        "import seaborn as sns\n",
        "sns.set_theme(style=\"ticks\")\n",
        "\n",
        "\n",
        "# Define the palette as a list to specify exact values\n",
        "palette = sns.color_palette(\"rocket_r\")\n",
        "\n",
        "# Plot the lines on two facets\n",
        "sns.relplot(\n",
        "    data=aaa,\n",
        "    x=\"week_n\", y=\"avg(price)\",\n",
        "     col=\"gas_label\",\n",
        "    kind=\"line\", palette=palette,\n",
        "    height=5, aspect=1.5, facet_kws=dict(sharex=False) , col_wrap=3\n",
        ")"
      ],
      "metadata": {
        "colab": {
          "base_uri": "https://localhost:8080/",
          "height": 563
        },
        "id": "zH2cuzIGuH1y",
        "outputId": "1142684b-1a03-4fc3-a624-189fd7f9bc39"
      },
      "execution_count": 35,
      "outputs": [
        {
          "output_type": "execute_result",
          "data": {
            "text/plain": [
              "<seaborn.axisgrid.FacetGrid at 0x7f8f523ad7c0>"
            ]
          },
          "metadata": {},
          "execution_count": 35
        },
        {
          "output_type": "display_data",
          "data": {
            "text/plain": [
              "<Figure size 1620x720 with 6 Axes>"
            ],
            "image/png": "[encoded data removed]"
          },
          "metadata": {}
        }
      ]
    },
    {
      "cell_type": "markdown",
      "source": [
        "### Data Visualization – Bonus question\n",
        "\n",
        "- Represent a grid for each gas type of France geo heat maps of price indexes, for example at department level\n",
        "\n",
        "\n",
        "First, I import the data per comune from github and I check if imported correctly. "
      ],
      "metadata": {
        "id": "bcoy_8jIwUMx"
      }
    },
    {
      "cell_type": "code",
      "source": [
        "!curl -o 04-resultats-par-commune.csv.gz https://raw.githubusercontent.com/HerveMignot/geopython/main/data/04-resultats-par-commune.csv.gz\n"
      ],
      "metadata": {
        "colab": {
          "base_uri": "https://localhost:8080/"
        },
        "id": "GaRXuw-63MXS",
        "outputId": "4053a778-ae87-42e8-f922-33558a407d5c"
      },
      "execution_count": 36,
      "outputs": [
        {
          "output_type": "stream",
          "name": "stdout",
          "text": [
            "  % Total    % Received % Xferd  Average Speed   Time    Time     Time  Current\n",
            "                                 Dload  Upload   Total   Spent    Left  Speed\n",
            "100 5756k  100 5756k    0     0  2977k      0  0:00:01  0:00:01 --:--:-- 2977k\n"
          ]
        }
      ]
    },
    {
      "cell_type": "code",
      "source": [
        "resultats_par_commune = spark.read.csv('04-resultats-par-commune.csv.gz', sep=',', header=True, inferSchema=True).cache()\n"
      ],
      "metadata": {
        "id": "-5Hscb_06KQF"
      },
      "execution_count": 37,
      "outputs": []
    },
    {
      "cell_type": "code",
      "source": [
        "resultats_par_commune.describe().show()\n"
      ],
      "metadata": {
        "colab": {
          "base_uri": "https://localhost:8080/"
        },
        "id": "HKXBqiRw6QNG",
        "outputId": "63473d4d-c13f-4918-fbb5-728ea7016608"
      },
      "execution_count": 38,
      "outputs": [
        {
          "output_type": "stream",
          "name": "stdout",
          "text": [
            "+-------+--------------------+------------------+------------------+--------------------+------------------+-----------------+-----------------+--------+------------------+------------+--------+------------------+------------------+-----------------+------------------+------------------+---------------------+--------------------+-----------------+-------------------+------------------+------------------+-----------------------+----------------------+------------------+--------+-----------+----------+-----------------+-------------------+---------------------+\n",
            "|summary|                 url|          reg_code|        reg_code_3|            reg_name|          dep_code|     dep_code_min|       dep_code_3|dep_name|      commune_code|commune_name|num_tour|       inscrits_nb|     abstention_nb| abstention_pourc|        votants_nb|         blancs_nb|blancs_pourc_inscrits|blancs_pourc_votants|          nuls_nb|nuls_pourc_inscrits|nuls_pourc_votants|       exprimes_nb|exprimes_pourc_inscrits|exprimes_pourc_votants|  cand_num_panneau|cand_nom|cand_prenom|cand_civil|     cand_nb_voix|cand_rapport_exprim|cand_rapport_inscrits|\n",
            "+-------+--------------------+------------------+------------------+--------------------+------------------+-----------------+-----------------+--------+------------------+------------+--------+------------------+------------------+-----------------+------------------+------------------+---------------------+--------------------+-----------------+-------------------+------------------+------------------+-----------------------+----------------------+------------------+--------+-----------+----------+-----------------+-------------------+---------------------+\n",
            "|  count|              420960|            419928|            420960|              419928|            420960|           420960|           420960|  420960|            420960|      420960|  420960|            420960|            420960|           420960|            420960|            420960|               420960|              420960|           420960|             420960|            420960|            420960|                 420960|                420960|            420960|  420960|     420960|    420960|           420960|             420960|               420960|\n",
            "|   mean|                null|52.280390924158425| 52.15222348916762|                null| 46.21646138240835|51.98914170506912|51.98914170506912|    null|252.48280291137434|        null|     1.0|1410.0785347776512|353.56086088939566|20.63855302166422|1056.5176738882553|15.840935005701255|   1.2974389965791746|   1.636208950969396|6.931328392246294| 0.6158794184720946|0.7820407639680571| 1033.745410490308|      77.44817673888753|     97.58173432155351|               6.5|    null|       null|      null|86.14545087419232|  8.333335898896978|     6.45401299410809|\n",
            "| stddev|                null|24.361359987685862|24.468452345156248|                null|25.478908853080092|77.41817450315874|77.41817450315874|    null|182.58665828849672|        null|     0.0| 9470.579203363615|2356.6007512229835|6.292583077889247| 7194.100438523841| 81.73461399285416|   0.9529264263299724|  1.1948917393568028|32.93305809714178| 0.6963468463294399|0.8889510918740934|7084.8560274936135|      6.276675879184642|    1.4586985245154418|3.4520566297563704|    null|       null|      null|990.2140412358556| 10.420134694324746|    8.079518010684062|\n",
            "|    min|https://www.resul...|                 1|                 0|Auvergne-Rhône-Alpes|                01|               01|              001|     Ain|               001|        Aast|       1|                 4|                 0|              0.0|                 3|                 0|                  0.0|                 0.0|                0|                0.0|               0.0|                 3|                   3.27|                 66.67|                 1| ARTHAUD|       Anne|        M.|                0|                0.0|                  0.0|\n",
            "|    max|https://www.resul...|                94|                94|       Île-de-France|                ZX|              988|              988|Yvelines|               909|  Ô-de-Selle|       1|           1354352|            293723|            96.62|           1060629|             10746|                 25.0|               33.33|             3819|              14.29|             21.43|           1046064|                  100.0|                 100.0|                12| ZEMMOUR|       Éric|       Mme|           371291|              91.03|                 72.0|\n",
            "+-------+--------------------+------------------+------------------+--------------------+------------------+-----------------+-----------------+--------+------------------+------------+--------+------------------+------------------+-----------------+------------------+------------------+---------------------+--------------------+-----------------+-------------------+------------------+------------------+-----------------------+----------------------+------------------+--------+-----------+----------+-----------------+-------------------+---------------------+\n",
            "\n"
          ]
        }
      ]
    },
    {
      "cell_type": "code",
      "source": [
        "!wc -l 04-resultats-par-commune.csv.gz"
      ],
      "metadata": {
        "colab": {
          "base_uri": "https://localhost:8080/"
        },
        "id": "aKxXSU6g_vkg",
        "outputId": "cffe1707-6d73-4213-9b4d-5cc93a9a28f8"
      },
      "execution_count": 39,
      "outputs": [
        {
          "output_type": "stream",
          "name": "stdout",
          "text": [
            "29483 04-resultats-par-commune.csv.gz\n"
          ]
        }
      ]
    },
    {
      "cell_type": "markdown",
      "source": [
        "Then I install and import folium and geopandas package for building map of average price by departement"
      ],
      "metadata": {
        "id": "TImQrXUcw-ms"
      }
    },
    {
      "cell_type": "code",
      "source": [
        "\n",
        "# Install folium package\n",
        "!pip install folium"
      ],
      "metadata": {
        "colab": {
          "base_uri": "https://localhost:8080/"
        },
        "id": "oxTOn6EB71j8",
        "outputId": "61f3e34a-ea2f-4a66-d4b7-704fce56647b"
      },
      "execution_count": 40,
      "outputs": [
        {
          "output_type": "stream",
          "name": "stdout",
          "text": [
            "Looking in indexes: https://pypi.org/simple, https://us-python.pkg.dev/colab-wheels/public/simple/\n",
            "Requirement already satisfied: folium in /usr/local/lib/python3.8/dist-packages (0.12.1.post1)\n",
            "Requirement already satisfied: numpy in /usr/local/lib/python3.8/dist-packages (from folium) (1.21.6)\n",
            "Requirement already satisfied: requests in /usr/local/lib/python3.8/dist-packages (from folium) (2.25.1)\n",
            "Requirement already satisfied: branca>=0.3.0 in /usr/local/lib/python3.8/dist-packages (from folium) (0.6.0)\n",
            "Requirement already satisfied: jinja2>=2.9 in /usr/local/lib/python3.8/dist-packages (from folium) (2.11.3)\n",
            "Requirement already satisfied: MarkupSafe>=0.23 in /usr/local/lib/python3.8/dist-packages (from jinja2>=2.9->folium) (2.0.1)\n",
            "Requirement already satisfied: urllib3<1.27,>=1.21.1 in /usr/local/lib/python3.8/dist-packages (from requests->folium) (1.24.3)\n",
            "Requirement already satisfied: idna<3,>=2.5 in /usr/local/lib/python3.8/dist-packages (from requests->folium) (2.10)\n",
            "Requirement already satisfied: chardet<5,>=3.0.2 in /usr/local/lib/python3.8/dist-packages (from requests->folium) (4.0.0)\n",
            "Requirement already satisfied: certifi>=2017.4.17 in /usr/local/lib/python3.8/dist-packages (from requests->folium) (2022.12.7)\n"
          ]
        }
      ]
    },
    {
      "cell_type": "code",
      "source": [
        "!pip install geopandas"
      ],
      "metadata": {
        "colab": {
          "base_uri": "https://localhost:8080/"
        },
        "id": "IenMo1By77w0",
        "outputId": "11a743a6-faf8-470d-fdd2-2ac7b8e6ec46"
      },
      "execution_count": 41,
      "outputs": [
        {
          "output_type": "stream",
          "name": "stdout",
          "text": [
            "Looking in indexes: https://pypi.org/simple, https://us-python.pkg.dev/colab-wheels/public/simple/\n",
            "Collecting geopandas\n",
            "  Downloading geopandas-0.12.2-py3-none-any.whl (1.1 MB)\n",
            "\u001b[2K     \u001b[90m━━━━━━━━━━━━━━━━━━━━━━━━━━━━━━━━━━━━━━━━\u001b[0m \u001b[32m1.1/1.1 MB\u001b[0m \u001b[31m13.9 MB/s\u001b[0m eta \u001b[36m0:00:00\u001b[0m\n",
            "\u001b[?25hCollecting pyproj>=2.6.1.post1\n",
            "  Downloading pyproj-3.4.1-cp38-cp38-manylinux_2_17_x86_64.manylinux2014_x86_64.whl (7.8 MB)\n",
            "\u001b[2K     \u001b[90m━━━━━━━━━━━━━━━━━━━━━━━━━━━━━━━━━━━━━━━━\u001b[0m \u001b[32m7.8/7.8 MB\u001b[0m \u001b[31m43.1 MB/s\u001b[0m eta \u001b[36m0:00:00\u001b[0m\n",
            "\u001b[?25hRequirement already satisfied: shapely>=1.7 in /usr/local/lib/python3.8/dist-packages (from geopandas) (2.0.0)\n",
            "Requirement already satisfied: packaging in /usr/local/lib/python3.8/dist-packages (from geopandas) (21.3)\n",
            "Collecting fiona>=1.8\n",
            "  Downloading Fiona-1.8.22-cp38-cp38-manylinux_2_17_x86_64.manylinux2014_x86_64.whl (16.6 MB)\n",
            "\u001b[2K     \u001b[90m━━━━━━━━━━━━━━━━━━━━━━━━━━━━━━━━━━━━━━━━\u001b[0m \u001b[32m16.6/16.6 MB\u001b[0m \u001b[31m51.7 MB/s\u001b[0m eta \u001b[36m0:00:00\u001b[0m\n",
            "\u001b[?25hRequirement already satisfied: pandas>=1.0.0 in /usr/local/lib/python3.8/dist-packages (from geopandas) (1.3.5)\n",
            "Requirement already satisfied: six>=1.7 in /usr/local/lib/python3.8/dist-packages (from fiona>=1.8->geopandas) (1.15.0)\n",
            "Collecting munch\n",
            "  Downloading munch-2.5.0-py2.py3-none-any.whl (10 kB)\n",
            "Requirement already satisfied: attrs>=17 in /usr/local/lib/python3.8/dist-packages (from fiona>=1.8->geopandas) (22.2.0)\n",
            "Requirement already satisfied: certifi in /usr/local/lib/python3.8/dist-packages (from fiona>=1.8->geopandas) (2022.12.7)\n",
            "Collecting cligj>=0.5\n",
            "  Downloading cligj-0.7.2-py3-none-any.whl (7.1 kB)\n",
            "Collecting click-plugins>=1.0\n",
            "  Downloading click_plugins-1.1.1-py2.py3-none-any.whl (7.5 kB)\n",
            "Requirement already satisfied: click>=4.0 in /usr/local/lib/python3.8/dist-packages (from fiona>=1.8->geopandas) (7.1.2)\n",
            "Requirement already satisfied: setuptools in /usr/local/lib/python3.8/dist-packages (from fiona>=1.8->geopandas) (57.4.0)\n",
            "Requirement already satisfied: numpy>=1.17.3 in /usr/local/lib/python3.8/dist-packages (from pandas>=1.0.0->geopandas) (1.21.6)\n",
            "Requirement already satisfied: python-dateutil>=2.7.3 in /usr/local/lib/python3.8/dist-packages (from pandas>=1.0.0->geopandas) (2.8.2)\n",
            "Requirement already satisfied: pytz>=2017.3 in /usr/local/lib/python3.8/dist-packages (from pandas>=1.0.0->geopandas) (2022.7)\n",
            "Requirement already satisfied: pyparsing!=3.0.5,>=2.0.2 in /usr/local/lib/python3.8/dist-packages (from packaging->geopandas) (3.0.9)\n",
            "Installing collected packages: pyproj, munch, cligj, click-plugins, fiona, geopandas\n",
            "Successfully installed click-plugins-1.1.1 cligj-0.7.2 fiona-1.8.22 geopandas-0.12.2 munch-2.5.0 pyproj-3.4.1\n"
          ]
        }
      ]
    },
    {
      "cell_type": "code",
      "source": [
        "import folium\n",
        "import geopandas\n",
        "import pandas as pd"
      ],
      "metadata": {
        "id": "QmoR4iXG8Gfj"
      },
      "execution_count": 42,
      "outputs": []
    },
    {
      "cell_type": "markdown",
      "source": [
        "I concatenate the departement and the commune to obtain the zip code and merge later."
      ],
      "metadata": {
        "id": "Pe3RRHgGxWj7"
      }
    },
    {
      "cell_type": "code",
      "source": [
        "from pyspark.sql.functions import concat"
      ],
      "metadata": {
        "id": "oC8w3Do1BXlQ"
      },
      "execution_count": 43,
      "outputs": []
    },
    {
      "cell_type": "code",
      "source": [
        "resultats_par_commune.columns"
      ],
      "metadata": {
        "colab": {
          "base_uri": "https://localhost:8080/"
        },
        "id": "mQcQ8jUkBqfh",
        "outputId": "be9ddcec-a672-44fc-94d6-c4e61014fa1d"
      },
      "execution_count": 44,
      "outputs": [
        {
          "output_type": "execute_result",
          "data": {
            "text/plain": [
              "['url',\n",
              " 'reg_code',\n",
              " 'reg_code_3',\n",
              " 'reg_name',\n",
              " 'dep_code',\n",
              " 'dep_code_min',\n",
              " 'dep_code_3',\n",
              " 'dep_name',\n",
              " 'commune_code',\n",
              " 'commune_name',\n",
              " 'num_tour',\n",
              " 'inscrits_nb',\n",
              " 'abstention_nb',\n",
              " 'abstention_pourc',\n",
              " 'votants_nb',\n",
              " 'blancs_nb',\n",
              " 'blancs_pourc_inscrits',\n",
              " 'blancs_pourc_votants',\n",
              " 'nuls_nb',\n",
              " 'nuls_pourc_inscrits',\n",
              " 'nuls_pourc_votants',\n",
              " 'exprimes_nb',\n",
              " 'exprimes_pourc_inscrits',\n",
              " 'exprimes_pourc_votants',\n",
              " 'cand_num_panneau',\n",
              " 'cand_nom',\n",
              " 'cand_prenom',\n",
              " 'cand_civil',\n",
              " 'cand_nb_voix',\n",
              " 'cand_rapport_exprim',\n",
              " 'cand_rapport_inscrits']"
            ]
          },
          "metadata": {},
          "execution_count": 44
        }
      ]
    },
    {
      "cell_type": "code",
      "source": [
        "#Checking the number of unique zip_code to compare across file if it is coherent\n",
        "ddf_index.groupby('zip_code').count().orderBy('count', ascending=False).count()"
      ],
      "metadata": {
        "colab": {
          "base_uri": "https://localhost:8080/"
        },
        "id": "2bUP4zavbLs8",
        "outputId": "29c9f82e-1808-40d6-9660-320e0fab687c"
      },
      "execution_count": 45,
      "outputs": [
        {
          "output_type": "execute_result",
          "data": {
            "text/plain": [
              "4316"
            ]
          },
          "metadata": {},
          "execution_count": 45
        }
      ]
    },
    {
      "cell_type": "code",
      "source": [
        "results_df = resultats_par_commune.select(concat(resultats_par_commune.dep_code,resultats_par_commune.commune_code).alias(\"code\"), 'url',\n",
        " 'reg_code',\n",
        " 'reg_code_3',\n",
        " 'reg_name',\n",
        " 'dep_code',\n",
        " 'dep_code_min',\n",
        " 'dep_code_3',\n",
        " 'dep_name',\n",
        " 'commune_code',\n",
        " 'commune_name',\n",
        " 'num_tour',\n",
        " 'inscrits_nb',\n",
        " 'abstention_nb',\n",
        " 'abstention_pourc',\n",
        " 'votants_nb',\n",
        " 'blancs_nb',\n",
        " 'blancs_pourc_inscrits',\n",
        " 'blancs_pourc_votants',\n",
        " 'nuls_nb',\n",
        " 'nuls_pourc_inscrits',\n",
        " 'nuls_pourc_votants',\n",
        " 'exprimes_nb',\n",
        " 'exprimes_pourc_inscrits',\n",
        " 'exprimes_pourc_votants',\n",
        " 'cand_num_panneau',\n",
        " 'cand_nom',\n",
        " 'cand_prenom',\n",
        " 'cand_civil',\n",
        " 'cand_nb_voix',\n",
        " 'cand_rapport_exprim',\n",
        " 'cand_rapport_inscrits')"
      ],
      "metadata": {
        "id": "u4p0DebVAjkv"
      },
      "execution_count": 46,
      "outputs": []
    },
    {
      "cell_type": "code",
      "source": [
        "#Checking the number of unique zip_code to compare across file if it is coherent\n",
        "\n",
        "results_df.groupby('code').count().orderBy('count', ascending=False).count()"
      ],
      "metadata": {
        "id": "_oZqhI40FXFT",
        "outputId": "0c6744ff-8365-4835-a71d-40f3ad6a74ee",
        "colab": {
          "base_uri": "https://localhost:8080/"
        }
      },
      "execution_count": 47,
      "outputs": [
        {
          "output_type": "execute_result",
          "data": {
            "text/plain": [
              "35080"
            ]
          },
          "metadata": {},
          "execution_count": 47
        }
      ]
    },
    {
      "cell_type": "code",
      "source": [
        "ddf_index.groupby('zip_code').count().orderBy('count', ascending=False).count()"
      ],
      "metadata": {
        "id": "9azrWt0bFyFC",
        "outputId": "89d90f19-2e72-4cec-e06e-75fe8856eefc",
        "colab": {
          "base_uri": "https://localhost:8080/"
        }
      },
      "execution_count": 48,
      "outputs": [
        {
          "output_type": "execute_result",
          "data": {
            "text/plain": [
              "4316"
            ]
          },
          "metadata": {},
          "execution_count": 48
        }
      ]
    },
    {
      "cell_type": "code",
      "source": [
        "results_df.show(5)"
      ],
      "metadata": {
        "colab": {
          "base_uri": "https://localhost:8080/"
        },
        "id": "Rr7EiKqFJ47X",
        "outputId": "918fd202-bb26-488e-fe9d-5502bc8bfa62"
      },
      "execution_count": 49,
      "outputs": [
        {
          "output_type": "stream",
          "name": "stdout",
          "text": [
            "+-----+--------------------+--------+----------+--------------------+--------+------------+----------+--------+------------+--------------------+--------+-----------+-------------+----------------+----------+---------+---------------------+--------------------+-------+-------------------+------------------+-----------+-----------------------+----------------------+----------------+--------+-----------+----------+------------+-------------------+---------------------+\n",
            "| code|                 url|reg_code|reg_code_3|            reg_name|dep_code|dep_code_min|dep_code_3|dep_name|commune_code|        commune_name|num_tour|inscrits_nb|abstention_nb|abstention_pourc|votants_nb|blancs_nb|blancs_pourc_inscrits|blancs_pourc_votants|nuls_nb|nuls_pourc_inscrits|nuls_pourc_votants|exprimes_nb|exprimes_pourc_inscrits|exprimes_pourc_votants|cand_num_panneau|cand_nom|cand_prenom|cand_civil|cand_nb_voix|cand_rapport_exprim|cand_rapport_inscrits|\n",
            "+-----+--------------------+--------+----------+--------------------+--------+------------+----------+--------+------------+--------------------+--------+-----------+-------------+----------------+----------+---------+---------------------+--------------------+-------+-------------------+------------------+-----------+-----------------------+----------------------+----------------+--------+-----------+----------+------------+-------------------+---------------------+\n",
            "|01001|https://www.resul...|      84|        84|Auvergne-Rhône-Alpes|      01|          01|       001|     Ain|         001|L'Abergement-Clém...|       1|        645|          108|           16.74|       537|       16|                 2.48|                2.98|      1|               0.16|              0.19|        520|                  80.62|                 96.83|               1| ARTHAUD|   Nathalie|       Mme|           3|               0.58|                 0.47|\n",
            "|01001|https://www.resul...|      84|        84|Auvergne-Rhône-Alpes|      01|          01|       001|     Ain|         001|L'Abergement-Clém...|       1|        645|          108|           16.74|       537|       16|                 2.48|                2.98|      1|               0.16|              0.19|        520|                  80.62|                 96.83|               2| ROUSSEL|     Fabien|        M.|           6|               1.15|                 0.93|\n",
            "|01001|https://www.resul...|      84|        84|Auvergne-Rhône-Alpes|      01|          01|       001|     Ain|         001|L'Abergement-Clém...|       1|        645|          108|           16.74|       537|       16|                 2.48|                2.98|      1|               0.16|              0.19|        520|                  80.62|                 96.83|               3|  MACRON|   Emmanuel|        M.|         150|              28.85|                23.26|\n",
            "|01001|https://www.resul...|      84|        84|Auvergne-Rhône-Alpes|      01|          01|       001|     Ain|         001|L'Abergement-Clém...|       1|        645|          108|           16.74|       537|       16|                 2.48|                2.98|      1|               0.16|              0.19|        520|                  80.62|                 96.83|               4|LASSALLE|       Jean|        M.|          18|               3.46|                 2.79|\n",
            "|01001|https://www.resul...|      84|        84|Auvergne-Rhône-Alpes|      01|          01|       001|     Ain|         001|L'Abergement-Clém...|       1|        645|          108|           16.74|       537|       16|                 2.48|                2.98|      1|               0.16|              0.19|        520|                  80.62|                 96.83|               5|  LE PEN|     Marine|       Mme|         149|              28.65|                 23.1|\n",
            "+-----+--------------------+--------+----------+--------------------+--------+------------+----------+--------+------------+--------------------+--------+-----------+-------------+----------------+----------+---------+---------------------+--------------------+-------+-------------------+------------------+-----------+-----------------------+----------------------+----------------+--------+-----------+----------+------------+-------------------+---------------------+\n",
            "only showing top 5 rows\n",
            "\n"
          ]
        }
      ]
    },
    {
      "cell_type": "code",
      "source": [
        "results_df= results_df.withColumn('zip_code', results_df.code)"
      ],
      "metadata": {
        "id": "T2a1-XKPQJfe"
      },
      "execution_count": 50,
      "outputs": []
    },
    {
      "cell_type": "code",
      "source": [
        "results_df.columns"
      ],
      "metadata": {
        "colab": {
          "base_uri": "https://localhost:8080/"
        },
        "id": "tBqjVNMKQvfx",
        "outputId": "a2bc90f8-4bdf-46a7-a211-330e3e023561"
      },
      "execution_count": 51,
      "outputs": [
        {
          "output_type": "execute_result",
          "data": {
            "text/plain": [
              "['code',\n",
              " 'url',\n",
              " 'reg_code',\n",
              " 'reg_code_3',\n",
              " 'reg_name',\n",
              " 'dep_code',\n",
              " 'dep_code_min',\n",
              " 'dep_code_3',\n",
              " 'dep_name',\n",
              " 'commune_code',\n",
              " 'commune_name',\n",
              " 'num_tour',\n",
              " 'inscrits_nb',\n",
              " 'abstention_nb',\n",
              " 'abstention_pourc',\n",
              " 'votants_nb',\n",
              " 'blancs_nb',\n",
              " 'blancs_pourc_inscrits',\n",
              " 'blancs_pourc_votants',\n",
              " 'nuls_nb',\n",
              " 'nuls_pourc_inscrits',\n",
              " 'nuls_pourc_votants',\n",
              " 'exprimes_nb',\n",
              " 'exprimes_pourc_inscrits',\n",
              " 'exprimes_pourc_votants',\n",
              " 'cand_num_panneau',\n",
              " 'cand_nom',\n",
              " 'cand_prenom',\n",
              " 'cand_civil',\n",
              " 'cand_nb_voix',\n",
              " 'cand_rapport_exprim',\n",
              " 'cand_rapport_inscrits',\n",
              " 'zip_code']"
            ]
          },
          "metadata": {},
          "execution_count": 51
        }
      ]
    },
    {
      "cell_type": "code",
      "source": [
        "#Joiny price data with data with some informtion on geolocalisation\n",
        "\n",
        "\n",
        "result_df = results_df.join(ddf_index, on=['zip_code'], how='outer')\n"
      ],
      "metadata": {
        "id": "wVGvommJRGxO"
      },
      "execution_count": 52,
      "outputs": []
    },
    {
      "cell_type": "code",
      "source": [
        "price_departments_df = (result_df\n",
        " .groupby('dep_code')\n",
        " .agg(F.avg('price_index').alias('index_price'))\n",
        " #.reset_index()\n",
        " .withColumnRenamed('dep_code','code')\n",
        ")"
      ],
      "metadata": {
        "id": "ewyfR44wULvd"
      },
      "execution_count": 53,
      "outputs": []
    },
    {
      "cell_type": "code",
      "source": [
        "price_departments_df.groupby('code').count().orderBy('count', ascending=False).count()"
      ],
      "metadata": {
        "id": "2_hrLwYpIGmk",
        "outputId": "6f20c4b4-2bc3-42dc-8621-9fa7b4a562bf",
        "colab": {
          "base_uri": "https://localhost:8080/"
        }
      },
      "execution_count": 54,
      "outputs": [
        {
          "output_type": "execute_result",
          "data": {
            "text/plain": [
              "107"
            ]
          },
          "metadata": {},
          "execution_count": 54
        }
      ]
    },
    {
      "cell_type": "code",
      "source": [
        "!curl -o departements.geojson https://raw.githubusercontent.com/HerveMignot/geopython/main/references/departements-version-simplifiee.geojson"
      ],
      "metadata": {
        "colab": {
          "base_uri": "https://localhost:8080/"
        },
        "id": "ozzmzZlrJwqq",
        "outputId": "d52c9edd-4608-496e-f6e5-722079cf0218"
      },
      "execution_count": 55,
      "outputs": [
        {
          "output_type": "stream",
          "name": "stdout",
          "text": [
            "  % Total    % Received % Xferd  Average Speed   Time    Time     Time  Current\n",
            "                                 Dload  Upload   Total   Spent    Left  Speed\n",
            "100  555k  100  555k    0     0  1012k      0 --:--:-- --:--:-- --:--:-- 1012k\n"
          ]
        }
      ]
    },
    {
      "cell_type": "code",
      "source": [
        "departements = spark.read.json('departements.geojson').cache()"
      ],
      "metadata": {
        "id": "OrKAA8WZKY6a"
      },
      "execution_count": 56,
      "outputs": []
    },
    {
      "cell_type": "code",
      "source": [
        "price_departments_df = price_departments_df.toPandas()"
      ],
      "metadata": {
        "id": "Up_YjQNVHCB9"
      },
      "execution_count": 57,
      "outputs": []
    },
    {
      "cell_type": "code",
      "source": [
        "# Create a folium map\n",
        "m = folium.Map(\n",
        "    location=[46.5, 2.3],\n",
        "    zoom_start=6,\n",
        "    tiles=None,\n",
        ")\n",
        "\n",
        "# Add a map background\n",
        "folium.TileLayer(\"CartoDB positron\", name=\"Light Map\", control=False).add_to(m)\n",
        "\n",
        "# Draw a Choropleth layer\n",
        "folium.Choropleth(\n",
        "    geo_data='departements.geojson', #gdf,  #[lambda _df: _df.code.str.startswith('92')],\n",
        "    data=price_departments_df,\n",
        "    columns=['code', 'index_price'],  #, 'Unemployment'],\n",
        "    key_on='feature.properties.code',\n",
        "    fill_color='BuPu',\n",
        "    fill_opacity=0.7,\n",
        "    line_opacity=0.5,\n",
        "    #legend_name=code,\n",
        "    #bins=bins,\n",
        "    #reset=True\n",
        ").add_to(m)\n",
        "\n",
        "m"
      ],
      "metadata": {
        "id": "D121YZVi7wjA"
      },
      "execution_count": null,
      "outputs": []
    },
    {
      "cell_type": "markdown",
      "source": [],
      "metadata": {
        "id": "dH3GoJdLmKQx"
      }
    },
    {
      "cell_type": "markdown",
      "source": [
        "I try my hardest to reproduce the map but I couldn't. I can't figure out where I am getting it wrong.  "
      ],
      "metadata": {
        "id": "p1QbM0M-LdM4"
      }
    },
    {
      "cell_type": "markdown",
      "source": [
        "## Modeling – Option 1 – Forecast next day price\n",
        "\n",
        "In this scenario, we use random forest regression to predict one gas type (Gazole in our case). I will be using the following label and features: \n",
        "\n",
        "Label → gas price\n",
        "Features → {\"pop\", \"longitude\", \"latitude\" \"previous gas price\", \"year\", \"week_of_year\"}\n",
        "\n",
        "\n",
        "The reasoning is to proceed by elimination of irrelevant variables, while keeping inavoidable ones. For example, day_of_week can be dropped, since their cyclality does not add much information to the price variation. \n"
      ],
      "metadata": {
        "id": "W4rA3Uc5bj6G"
      }
    },
    {
      "cell_type": "code",
      "source": [
        "from pyspark.ml.feature import StringIndexer   # str -> int\n",
        "from pyspark.ml.feature import OneHotEncoder   # int -> dummy variable (may need to call a StringIndexer)\n",
        "from pyspark.ml.feature import Imputer         # impute missing values according some \"strategy\"\n",
        "from pyspark.ml.feature import StandardScaler  # normalize to [0, 1] numerical values\n",
        "from pyspark.ml.feature import VectorAssembler # build a vector from several columns\n",
        "\n",
        "from pyspark.ml.pipeline import Pipeline\n",
        "from pyspark.ml.feature import HashingTF, Tokenizer\n",
        "\n"
      ],
      "metadata": {
        "id": "JB4upFYU6Y40"
      },
      "execution_count": 59,
      "outputs": []
    },
    {
      "cell_type": "markdown",
      "source": [
        "Given that price are corelated over time, I will  create the previous_week_index column from the week price (l1price) column using the windowing function called lag()"
      ],
      "metadata": {
        "id": "r3jWPF0B-jn5"
      }
    },
    {
      "cell_type": "markdown",
      "source": [
        "As I did exploration in the previous questions, I will focus more directly on the estimation side of things. What I mean is that I already play a lot with the data and grasp a better understanding of it during the previous questions."
      ],
      "metadata": {
        "id": "fKVvgJGy_4Xv"
      }
    },
    {
      "cell_type": "code",
      "source": [
        "from pyspark.sql.functions import lag\n"
      ],
      "metadata": {
        "id": "obrXpYjZB670"
      },
      "execution_count": 60,
      "outputs": []
    },
    {
      "cell_type": "code",
      "source": [
        "ddf_index1 = ddf_index.withColumn('l1price', lag('price')\n",
        "                                .over(Window.partitionBy('day_only')\n",
        "                                .orderBy(['id_pdv']))).filter(ddf_index.gas_label == 'Gazole')"
      ],
      "metadata": {
        "id": "9wIg_pdYA4ks"
      },
      "execution_count": 61,
      "outputs": []
    },
    {
      "cell_type": "code",
      "source": [
        "ddf_index1.describe().show()"
      ],
      "metadata": {
        "colab": {
          "base_uri": "https://localhost:8080/"
        },
        "id": "gb0dSzvN-dVf",
        "outputId": "b9f7b2c6-a6d0-4a1d-e351-c0fadcaddd40"
      },
      "execution_count": 70,
      "outputs": [
        {
          "output_type": "stream",
          "name": "stdout",
          "text": [
            "+-------+----------+-------------------+------------------+-------+-------+---------+------------------+------------------+------------------+------------------+------------------+------------------+------------------+------------------+-----------------+------------------+------------------+------------------+\n",
            "|summary|  day_only|             id_pdv|          zip_code|    pop| gas_id|gas_label|             price|              year|             month|      week_of_year|               day|           latitud|          longitud|         avg_price|      price_index|             day_n|            week_n|           l1price|\n",
            "+-------+----------+-------------------+------------------+-------+-------+---------+------------------+------------------+------------------+------------------+------------------+------------------+------------------+------------------+-----------------+------------------+------------------+------------------+\n",
            "|  count|   3758684|            3758684|           3758684|3758684|3758684|  3758684|           3758684|           3758684|           3758684|           3758684|           3758684|           3758684|           3758684|           3758684|          3758684|           3758684|           3758684|           3757655|\n",
            "|   mean|      null|5.243432870706024E7| 52407.82514252329|   null|    1.0|     null| 1401.724881634104|2019.9925348872105| 6.516982273582988|26.573199023913688| 4.192809238552642| 46.93842208682219|2.6836243230205215|1403.5515612954812|99.82191837086783|   544.57617586368| 77.40206066804232|1517.8469228814247|\n",
            "| stddev|      null|2.717669780514778E7|27180.898648298662|   null|    0.0|     null|125.54924934999843|0.8286482624331235|3.4634883338334754|15.112771115263444|1.8235553813921292|2.2553064019884697|2.6840770140630523| 92.16306378738916| 5.32699020847919|322.49636050226167|46.073957115866534|156.64490499977143|\n",
            "|    min|2019-01-01|            1000001|              1000|      A|      1|   Gazole|               106|              2019|                01|                 1|                 1|            41.391|            -4.723|1185.4960407998926| 8.93179690318302|                 0|                 0|                 1|\n",
            "|    max|2021-12-31|           95870009|             95870|      R|      1|   Gazole|              8888|              2021|                12|                53|                 7|            51.065|           9.54719|1608.5560276155072|576.5275025415899|              1095|               156|              8888|\n",
            "+-------+----------+-------------------+------------------+-------+-------+---------+------------------+------------------+------------------+------------------+------------------+------------------+------------------+------------------+-----------------+------------------+------------------+------------------+\n",
            "\n"
          ]
        }
      ]
    },
    {
      "cell_type": "markdown",
      "source": [
        "String Indexing, then one-hot encoding to encode the string/categorical columns to label indices. "
      ],
      "metadata": {
        "id": "EjmUZ823Dsue"
      }
    },
    {
      "cell_type": "code",
      "source": [
        "pop_n = StringIndexer(inputCol='pop', outputCol='n_pop')\n",
        "#lag_price = Imputer(inputCol='l1price', outputCol='nm_l1price', strategy='mean')\n",
        "features = VectorAssembler(inputCols=['n_pop', 'latitud', 'longitud'], outputCol='features')\n"
      ],
      "metadata": {
        "id": "U9v8ZEXpDjH-"
      },
      "execution_count": 77,
      "outputs": []
    },
    {
      "cell_type": "code",
      "source": [
        "#scaler1 = StandardScaler(inputCol='longitud', outputCol=\"scaled_features1\")\n",
        "#caler2 = StandardScaler(inputCol='latitud', outputCol=\"scaled_features2\")"
      ],
      "metadata": {
        "id": "_bnqKFGDNjc8"
      },
      "execution_count": 63,
      "outputs": []
    },
    {
      "cell_type": "code",
      "source": [
        "#pipeline = Pipeline(stages=[pop_n, features, scaler1, scaler2])"
      ],
      "metadata": {
        "id": "Pfws0s-iNMyj"
      },
      "execution_count": 64,
      "outputs": []
    },
    {
      "cell_type": "code",
      "source": [
        "from pyspark.ml.regression import RandomForestRegressor"
      ],
      "metadata": {
        "id": "Y8-jYdfrVCtk"
      },
      "execution_count": 78,
      "outputs": []
    },
    {
      "cell_type": "code",
      "source": [
        "rf = RandomForestRegressor(featuresCol='features', labelCol='price')"
      ],
      "metadata": {
        "id": "YslMJVqHVPrP"
      },
      "execution_count": 79,
      "outputs": []
    },
    {
      "cell_type": "markdown",
      "source": [
        "Before doing any modelling (random forest regressor in our case, let's see how our pipeline transform the data. "
      ],
      "metadata": {
        "id": "lDu0UTwNXyok"
      }
    },
    {
      "cell_type": "code",
      "source": [
        "pipeline = Pipeline(stages=[pop_n, features])"
      ],
      "metadata": {
        "id": "6f9mNpuDToLn"
      },
      "execution_count": 80,
      "outputs": []
    },
    {
      "cell_type": "markdown",
      "source": [
        "I split the data into train and test as follows 8à perce\"nt for the train data and 20 percent for the test data."
      ],
      "metadata": {
        "id": "4VfBkecd8hre"
      }
    },
    {
      "cell_type": "code",
      "source": [
        "(trainingData, testData)  = ddf_index1.randomSplit((0.8, 0.2), 1234)"
      ],
      "metadata": {
        "id": "jz2qaNwJMC8l"
      },
      "execution_count": 81,
      "outputs": []
    },
    {
      "cell_type": "code",
      "source": [
        "pipeline.fit(trainingData).transform(trainingData).show(8, truncate=False)"
      ],
      "metadata": {
        "colab": {
          "base_uri": "https://localhost:8080/"
        },
        "id": "DREcTnyyo0rz",
        "outputId": "56174d57-a9e7-496b-ef6b-ad986fa78dfc"
      },
      "execution_count": 82,
      "outputs": [
        {
          "output_type": "stream",
          "name": "stdout",
          "text": [
            "+----------+-------+--------+---+-------------------+------+---------+-----+----+-----+------------+---+------------------+------------------+------------------+------------------+-----+------+-------+-----+----------------------------------------+\n",
            "|day_only  |id_pdv |zip_code|pop|date               |gas_id|gas_label|price|year|month|week_of_year|day|latitud           |longitud          |avg_price         |price_index       |day_n|week_n|l1price|n_pop|features                                |\n",
            "+----------+-------+--------+---+-------------------+------+---------+-----+----+-----+------------+---+------------------+------------------+------------------+------------------+-----+------+-------+-----+----------------------------------------+\n",
            "|2019-01-01|1000008|1000    |R  |2019-01-01 10:30:00|1     |Gazole   |1347 |2019|01   |1           |3  |46.199            |5.241             |1372.0615820208814|98.17343606516782 |0    |0     |null   |0.0  |[0.0,46.199,5.241]                      |\n",
            "|2019-01-01|1000013|1000    |R  |2019-01-01 00:01:00|1     |Gazole   |1347 |2019|01   |1           |3  |46.1985183794     |5.243506378809999 |1372.0615820208814|98.17343606516782 |0    |0     |1399   |0.0  |[0.0,46.1985183794,5.243506378809999]   |\n",
            "|2019-01-01|1100007|1100    |R  |2019-01-01 00:01:00|1     |Gazole   |1428 |2019|01   |1           |3  |46.24966          |5.64134           |1372.0615820208814|104.07696117376366|0    |0     |1409   |0.0  |[0.0,46.24966,5.64134]                  |\n",
            "|2019-01-01|1120008|1120    |A  |2019-01-01 09:00:00|1     |Gazole   |1509 |2019|01   |1           |3  |45.8471518044     |5.07404780227     |1372.0615820208814|109.98048628235948|0    |0     |1529   |1.0  |[1.0,45.8471518044,5.07404780227]       |\n",
            "|2019-01-01|1130003|1130    |R  |2019-01-01 00:01:00|1     |Gazole   |1339 |2019|01   |1           |3  |46.158            |5.604             |1372.0615820208814|97.59037185691145 |0    |0     |1614   |0.0  |[0.0,46.158,5.604]                      |\n",
            "|2019-01-01|1160005|1160    |R  |2019-01-01 00:01:00|1     |Gazole   |1334 |2019|01   |1           |3  |46.0533506156     |5.3374103671699995|1372.0615820208814|97.22595672675119 |0    |0     |1445   |0.0  |[0.0,46.0533506156,5.3374103671699995]  |\n",
            "|2019-01-01|1250002|1250    |A  |2019-01-01 06:00:00|1     |Gazole   |1524 |2019|01   |1           |3  |46.17527          |5.32754           |1372.0615820208814|111.07373167284021|0    |0     |1333   |1.0  |[1.0,46.17527,5.32754]                  |\n",
            "|2019-01-01|1250005|1250    |A  |2019-01-01 09:00:00|1     |Gazole   |1514 |2019|01   |1           |3  |46.203558237726995|5.2958828488323   |1372.0615820208814|110.34490141251973|0    |0     |1524   |1.0  |[1.0,46.203558237726995,5.2958828488323]|\n",
            "+----------+-------+--------+---+-------------------+------+---------+-----+----+-----+------------+---+------------------+------------------+------------------+------------------+-----+------+-------+-----+----------------------------------------+\n",
            "only showing top 8 rows\n",
            "\n"
          ]
        }
      ]
    },
    {
      "cell_type": "markdown",
      "source": [
        "Then I add the step of adding the model into the pipeline. The pipeline became pipeline_rf"
      ],
      "metadata": {
        "id": "RLJmUUqlCmjf"
      }
    },
    {
      "cell_type": "code",
      "source": [
        "pipeline_rf = Pipeline(stages=[pipeline, rf])"
      ],
      "metadata": {
        "id": "zWjr-vR1YElv"
      },
      "execution_count": 83,
      "outputs": []
    },
    {
      "cell_type": "markdown",
      "source": [
        "Then fit the data to the random forest regression, just for cheking 5but later we will fit it only on training data."
      ],
      "metadata": {
        "id": "c-4BUhPUiHOI"
      }
    },
    {
      "cell_type": "code",
      "source": [
        "predictions = pipeline_rf.fit(testData).transform(testData)"
      ],
      "metadata": {
        "id": "VNmx34DBiEKG"
      },
      "execution_count": 86,
      "outputs": []
    },
    {
      "cell_type": "code",
      "source": [
        "df.printSchema"
      ],
      "metadata": {
        "colab": {
          "base_uri": "https://localhost:8080/"
        },
        "id": "6Afa63TnIwzq",
        "outputId": "0c16797b-cdcc-4937-eae5-9c027dda6d73"
      },
      "execution_count": 91,
      "outputs": [
        {
          "output_type": "execute_result",
          "data": {
            "text/plain": [
              "<bound method DataFrame.printSchema of DataFrame[day_only: string, id_pdv: int, zip_code: int, pop: string, date: timestamp, gas_id: int, gas_label: string, price: int, year: string, month: string, week_of_year: int, day: int, latitud: double, longitud: double, avg_price: double, price_index: double, day_n: int, week_n: bigint, l1price: int, n_pop: double, features: vector, prediction: double, difference: double]>"
            ]
          },
          "metadata": {},
          "execution_count": 91
        }
      ]
    },
    {
      "cell_type": "markdown",
      "source": [
        "I calculate RMSE as measure of our loss function as follows (using the predictions generated in the with the test data)."
      ],
      "metadata": {
        "id": "z0rLvW9qGrVa"
      }
    },
    {
      "cell_type": "code",
      "source": [
        "import pyspark.sql.functions as F\n",
        "from pyspark.sql.types import IntegerType\n",
        "\n",
        "df_1 = predictions.withColumn('difference', F.col('avg_price') - F.col('prediction'))\n",
        "df_2 =   df_1.withColumn('squared_difference', F.pow(F.col('difference'), F.lit(2).astype(IntegerType())))\n",
        "rmse = df_2.select(F.sqrt(F.avg(F.col('squared_difference'))).alias('rmse'))\n",
        "\n",
        "print(rmse.show())"
      ],
      "metadata": {
        "colab": {
          "base_uri": "https://localhost:8080/"
        },
        "id": "TQyUdcoCEwJ2",
        "outputId": "b1cac75e-70c2-4b7c-b06f-ae006d023bbc"
      },
      "execution_count": 94,
      "outputs": [
        {
          "output_type": "stream",
          "name": "stdout",
          "text": [
            "+----------------+\n",
            "|            rmse|\n",
            "+----------------+\n",
            "|98.6459519946392|\n",
            "+----------------+\n",
            "\n",
            "None\n"
          ]
        }
      ]
    },
    {
      "cell_type": "markdown",
      "source": [
        "Our model achieved a performance of an RMSE of 99.65 which is quite good. Remember that price average is in magnitude of 1500 (milli-euro) on average. Knowing that RMSE has a same order of magnitude (unit) with the price (variable of interest), we can judge that the random forest regressor provide a good first solution. the extention of this work would be to do grid search in order to improve the model performance. The code is provided below, but given that it takes too long to run, I do not report it here."
      ],
      "metadata": {
        "id": "6URtClD0MLLF"
      }
    },
    {
      "cell_type": "markdown",
      "source": [
        "The prediction model achieved an RMSE "
      ],
      "metadata": {
        "id": "dkbs29abLILz"
      }
    },
    {
      "cell_type": "code",
      "source": [
        "from pyspark.ml.feature import HashingTF, Tokenizer\n",
        "from pyspark.ml.tuning import CrossValidator, ParamGridBuilder\n",
        "from pyspark.mllib.evaluation import RegressionMetrics"
      ],
      "metadata": {
        "id": "6ntjUcHe-hpH"
      },
      "execution_count": 95,
      "outputs": []
    },
    {
      "cell_type": "markdown",
      "source": [],
      "metadata": {
        "id": "sl8pnMGbYPt-"
      }
    },
    {
      "cell_type": "markdown",
      "source": [
        "In this part, I perform gridsearch to look for an optimal model (with optimal parameters achieving the smallest loss in a set of loss function) , by defining a grid of parameter for the model training. We define a RegressionEvaluator, which will evaluate the model by comparing the test value (price) to the prediction based on crossValidator."
      ],
      "metadata": {
        "id": "_56rN_rZVM9c"
      }
    },
    {
      "cell_type": "code",
      "source": [
        "#paramGrid = ParamGridBuilder().addGrid(rf.maxBins, [10, 50, 150]).addGrid(rf.maxDepth, [3, 6, 10]).addGrid(rf.numTrees, [5, 20]).build()"
      ],
      "metadata": {
        "id": "dtJaW4DsEndB"
      },
      "execution_count": null,
      "outputs": []
    },
    {
      "cell_type": "code",
      "source": [
        "from pyspark.ml.tuning import CrossValidator\n",
        "from pyspark.ml.evaluation import RegressionEvaluator"
      ],
      "metadata": {
        "id": "_YCzsrlrAOtO"
      },
      "execution_count": 96,
      "outputs": []
    },
    {
      "cell_type": "code",
      "source": [
        "#crossval = CrossValidator(estimator=pipeline,\n",
        " #                         estimatorParamMaps=paramGrid,\n",
        "  #                         evaluator=RegressionEvaluator(),\n",
        "   #                       numFolds=2)"
      ],
      "metadata": {
        "id": "roYPdTSTWNun"
      },
      "execution_count": null,
      "outputs": []
    },
    {
      "cell_type": "code",
      "source": [
        " #evaluator = RegressionEvaluator().setLabelCol(\"price\").setPredictionCol(\"prediction\").setMetricName(\"rmse\")"
      ],
      "metadata": {
        "id": "GiNI3QgjbFf5"
      },
      "execution_count": null,
      "outputs": []
    },
    {
      "cell_type": "code",
      "source": [
        "#pipelineModel = crossval.fit(ddf_index1)"
      ],
      "metadata": {
        "id": "YFMNIK5m01Fn"
      },
      "execution_count": null,
      "outputs": []
    },
    {
      "cell_type": "code",
      "source": [
        "#crossval.estimatorParamMaps()"
      ],
      "metadata": {
        "id": "8RDgTL1B-6FE"
      },
      "execution_count": null,
      "outputs": []
    }
  ]
}